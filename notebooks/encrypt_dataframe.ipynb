{
 "cells": [
  {
   "cell_type": "code",
   "execution_count": 1,
   "id": "initial_id",
   "metadata": {
    "collapsed": true,
    "ExecuteTime": {
     "end_time": "2023-11-02T11:28:50.804571200Z",
     "start_time": "2023-11-02T11:28:49.987525Z"
    }
   },
   "outputs": [],
   "source": [
    "import pandas as pd\n",
    "import cryptpandas as crp"
   ]
  },
  {
   "cell_type": "code",
   "execution_count": null,
   "outputs": [],
   "source": [
    "df = pd.read_csv(r\"xxx\")\n",
    "df"
   ],
   "metadata": {
    "collapsed": false
   },
   "id": "aefec9a59229ab11"
  },
  {
   "cell_type": "code",
   "execution_count": 5,
   "outputs": [],
   "source": [
    "crp.to_encrypted(df, password='xxx', path='ground_truth.crypt')"
   ],
   "metadata": {
    "collapsed": false,
    "ExecuteTime": {
     "end_time": "2023-11-02T11:29:26.592440300Z",
     "start_time": "2023-11-02T11:29:26.384670Z"
    }
   },
   "id": "4604afb267f78dd1"
  }
 ],
 "metadata": {
  "kernelspec": {
   "display_name": "Python 3",
   "language": "python",
   "name": "python3"
  },
  "language_info": {
   "codemirror_mode": {
    "name": "ipython",
    "version": 2
   },
   "file_extension": ".py",
   "mimetype": "text/x-python",
   "name": "python",
   "nbconvert_exporter": "python",
   "pygments_lexer": "ipython2",
   "version": "2.7.6"
  }
 },
 "nbformat": 4,
 "nbformat_minor": 5
}
