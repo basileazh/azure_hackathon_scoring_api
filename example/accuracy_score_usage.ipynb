{
 "cells": [
  {
   "cell_type": "code",
   "execution_count": 10,
   "outputs": [],
   "source": [
    "import requests\n",
    "URL = 'http://127.0.0.1:8000/'"
   ],
   "metadata": {
    "collapsed": false,
    "ExecuteTime": {
     "end_time": "2024-05-07T14:37:40.924787Z",
     "start_time": "2024-05-07T14:37:40.920820Z"
    }
   },
   "id": "321e7a37e931ee45"
  },
  {
   "cell_type": "code",
   "execution_count": 11,
   "outputs": [
    {
     "name": "stdout",
     "output_type": "stream",
     "text": [
      "{\"status\":\"alive\"}\n"
     ]
    }
   ],
   "source": [
    "ping = requests.get(f'{URL}ping/')\n",
    "print(ping.text)"
   ],
   "metadata": {
    "collapsed": false,
    "ExecuteTime": {
     "end_time": "2024-05-07T14:37:41.838936Z",
     "start_time": "2024-05-07T14:37:41.828995Z"
    }
   },
   "id": "601ecbe46615e130"
  },
  {
   "cell_type": "code",
   "execution_count": 12,
   "outputs": [
    {
     "name": "stdout",
     "output_type": "stream",
     "text": [
      "{\"accuracy_score\":0.5,\"team_id\":\"test_team\"}\n"
     ]
    }
   ],
   "source": [
    "payload = {\n",
    "    \"team_id\": \"test_team\",\n",
    "    \"answers\": {\n",
    "        \"id\": [123, 456, 789, 159], \n",
    "        \"answer\": [\"a\", \"b\", \"a\", \"b\"]\n",
    "    },\n",
    "    \"ground_truth\": {\n",
    "        \"id\": [123, 456, 789, 159],\n",
    "        \"answer\": [\"a\", \"a\", \"a\", \"a\"],\n",
    "    },\n",
    "    \"send_to_api\": \"False\",\n",
    "}\n",
    "response = requests.post(f'{URL}score_accuracy/', json=payload)\n",
    "print(response.text)"
   ],
   "metadata": {
    "collapsed": false,
    "ExecuteTime": {
     "end_time": "2024-05-07T14:37:44.380590Z",
     "start_time": "2024-05-07T14:37:44.368340Z"
    }
   },
   "id": "99dfeef7bedf3f2e"
  },
  {
   "cell_type": "code",
   "execution_count": 13,
   "id": "initial_id",
   "metadata": {
    "collapsed": true,
    "ExecuteTime": {
     "end_time": "2024-05-07T14:39:19.468145Z",
     "start_time": "2024-05-07T14:39:19.459610Z"
    }
   },
   "outputs": [
    {
     "name": "stdout",
     "output_type": "stream",
     "text": [
      "{\"detail\":\"ShapeError rows : Number of rows in the answers 5 and ground truth 4 dataframes are not equal\"}\n"
     ]
    }
   ],
   "source": [
    "payload = {\n",
    "    \"team_id\": \"test_team\",\n",
    "    \"answers\": {\n",
    "        \"id\": [123, 456, 789, 159, 357],\n",
    "        \"answer\": [\"x\", \"y\", \"z\", \"w\", \"q\"],\n",
    "    },\n",
    "    \"ground_truth\": {\n",
    "        \"id\": [123, 456, 789, 159],\n",
    "        \"answer\": [\"a\", \"a\", \"a\", \"a\"],\n",
    "    },\n",
    "    \"send_to_api\": \"False\",\n",
    "}\n",
    "response = requests.post(f'{URL}score_accuracy/', json=payload)\n",
    "print(response.text)"
   ]
  },
  {
   "cell_type": "code",
   "execution_count": 5,
   "outputs": [
    {
     "name": "stdout",
     "output_type": "stream",
     "text": [
      "{\"accuracy_score\":0.5,\"team_id\":\"test_team\"}\n"
     ]
    }
   ],
   "source": [
    "payload = {\n",
    "    \"team_id\": \"test_team\",\n",
    "    \"answers\": {\n",
    "        \"index_1\": [123, 456, 789, 159],\n",
    "        \"index_2\": [\"x\", \"y\", \"z\", \"w\"],\n",
    "        \"answer\": [\"a\", \"b\", \"a\", \"b\"]\n",
    "    },\n",
    "    \"send_to_api\": False\n",
    "}\n",
    "response = requests.post(f'{URL}score_accuracy/', json=payload)\n",
    "print(response.text)"
   ],
   "metadata": {
    "collapsed": false,
    "ExecuteTime": {
     "end_time": "2023-10-31T22:16:35.226784500Z",
     "start_time": "2023-10-31T22:16:32.954328800Z"
    }
   },
   "id": "b5ca59603faab6a0"
  }
 ],
 "metadata": {
  "kernelspec": {
   "display_name": "Python 3",
   "language": "python",
   "name": "python3"
  },
  "language_info": {
   "codemirror_mode": {
    "name": "ipython",
    "version": 2
   },
   "file_extension": ".py",
   "mimetype": "text/x-python",
   "name": "python",
   "nbconvert_exporter": "python",
   "pygments_lexer": "ipython2",
   "version": "2.7.6"
  }
 },
 "nbformat": 4,
 "nbformat_minor": 5
}
